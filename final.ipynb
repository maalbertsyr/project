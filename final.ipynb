{
 "cells": [
  {
   "cell_type": "code",
   "execution_count": 7,
   "metadata": {},
   "outputs": [],
   "source": [
    "\n"
   ]
  },
  {
   "cell_type": "code",
   "execution_count": 8,
   "metadata": {},
   "outputs": [
    {
     "name": "stdout",
     "output_type": "stream",
     "text": [
      "Welcome to the Shoe Size Converter and Shoe Store finder application\n",
      "1. US <-> EU Shoe Size Converter\n",
      "2. Shoe Store Finder\n",
      "Select an option: (1/2) 1\n",
      "Is the current shoe size EU or US? \n",
      "Select a region: (EU/US) US\n",
      "Please enter a shoe size: 7\n",
      "Is the shoe size male (m) or female (f)? \n",
      "Select a gender (m/f): f\n",
      "Your new shoe size is 37\n",
      "1. US <-> EU Shoe Size Converter\n",
      "2. Shoe Store Finder\n",
      "Select an option: (1/2) 2\n",
      "VILLA, Join the Movement - 317 S Salina St, Syracuse, NY 13202, USA - Rating: 3.8 out of 5\n",
      "Famous Footwear - 3573 W Genesee St, Syracuse, NY 13219, USA - Rating: 4.6 out of 5\n",
      "DSW Designer Shoe Warehouse - 9773 Destiny USA Dr, Syracuse, NY 13204, USA - Rating: 4 out of 5\n",
      "Famous Footwear - 9642 Destiny USA Dr, Syracuse, NY 13204, USA - Rating: 4.3 out of 5\n",
      "Shoe Show Mega Store - Western Lights S/C, 4695 Onondaga Boulevard, Syracuse, NY 13219, United States - Rating: 3.5 out of 5\n",
      "streeTgame Salina - 341 S Salina St, Syracuse, NY 13202, USA - Rating: 4.6 out of 5\n",
      "Pearl Orthopedic Footwear - 716 E Washington St, Syracuse, NY 13210, USA - Rating: 5 out of 5\n",
      "VILLA, Join the Movement - 306 HIAWATHA BLVD W. SPACE #M207, Syracuse, NY 13204, United States - Rating: 4.3 out of 5\n",
      "Clarks - 1 Carousel Center, Syracuse, NY 13290, USA - Rating: 4.8 out of 5\n",
      "Famous Footwear - 7954 Brewerton Rd, Cicero, NY 13039, USA - Rating: 4 out of 5\n",
      "Ambition Upstate - 327 W Fayette St, Syracuse, NY 13202, USA - Rating: 4.7 out of 5\n",
      "Payless ShoeSource - 9538 Destiny USA Dr, Syracuse, NY 13204, USA - Rating: 4.1 out of 5\n",
      "Finish Line - 9509 Destiny USA Dr, Syracuse, NY 13290, USA - Rating: 4 out of 5\n",
      "Off Broadway Shoe Warehouse - 306 Hiawatha Blvd W BOX 9805, Syracuse, NY 13204, USA - Rating: 4.3 out of 5\n",
      "Journeys - 9507 Destiny USA Dr, Syracuse, NY 13204, USA - Rating: 3.5 out of 5\n",
      "Finish Line - 9090 Destiny USA Dr A004, Syracuse, NY 13290, USA - Rating: 4.3 out of 5\n",
      "Vans - 1 Destiny USA Dr F-212, Syracuse, NY 13290, USA - Rating: 4.5 out of 5\n",
      "Journeys Kidz - 9090 Destiny USA Dr, Syracuse, NY 13204, USA - Rating: 4.5 out of 5\n",
      "J Michael Shoes - 173 Marshall St, Syracuse, NY 13210, USA - Rating: 3.9 out of 5\n",
      "Sneakertown Corporation - 4141 S Salina St # 11, Syracuse, NY 13205, USA - Rating: 0 out of 5\n",
      "1. US <-> EU Shoe Size Converter\n",
      "2. Shoe Store Finder\n"
     ]
    },
    {
     "ename": "KeyboardInterrupt",
     "evalue": "",
     "output_type": "error",
     "traceback": [
      "\u001b[0;31m---------------------------------------------------------------------------\u001b[0m",
      "\u001b[0;31mKeyboardInterrupt\u001b[0m                         Traceback (most recent call last)",
      "\u001b[0;32m/Library/Frameworks/Python.framework/Versions/3.6/lib/python3.6/site-packages/ipykernel/kernelbase.py\u001b[0m in \u001b[0;36m_input_request\u001b[0;34m(self, prompt, ident, parent, password)\u001b[0m\n\u001b[1;32m    728\u001b[0m             \u001b[0;32mtry\u001b[0m\u001b[0;34m:\u001b[0m\u001b[0;34m\u001b[0m\u001b[0m\n\u001b[0;32m--> 729\u001b[0;31m                 \u001b[0mident\u001b[0m\u001b[0;34m,\u001b[0m \u001b[0mreply\u001b[0m \u001b[0;34m=\u001b[0m \u001b[0mself\u001b[0m\u001b[0;34m.\u001b[0m\u001b[0msession\u001b[0m\u001b[0;34m.\u001b[0m\u001b[0mrecv\u001b[0m\u001b[0;34m(\u001b[0m\u001b[0mself\u001b[0m\u001b[0;34m.\u001b[0m\u001b[0mstdin_socket\u001b[0m\u001b[0;34m,\u001b[0m \u001b[0;36m0\u001b[0m\u001b[0;34m)\u001b[0m\u001b[0;34m\u001b[0m\u001b[0m\n\u001b[0m\u001b[1;32m    730\u001b[0m             \u001b[0;32mexcept\u001b[0m \u001b[0mException\u001b[0m\u001b[0;34m:\u001b[0m\u001b[0;34m\u001b[0m\u001b[0m\n",
      "\u001b[0;32m/Library/Frameworks/Python.framework/Versions/3.6/lib/python3.6/site-packages/jupyter_client/session.py\u001b[0m in \u001b[0;36mrecv\u001b[0;34m(self, socket, mode, content, copy)\u001b[0m\n\u001b[1;32m    802\u001b[0m         \u001b[0;32mtry\u001b[0m\u001b[0;34m:\u001b[0m\u001b[0;34m\u001b[0m\u001b[0m\n\u001b[0;32m--> 803\u001b[0;31m             \u001b[0mmsg_list\u001b[0m \u001b[0;34m=\u001b[0m \u001b[0msocket\u001b[0m\u001b[0;34m.\u001b[0m\u001b[0mrecv_multipart\u001b[0m\u001b[0;34m(\u001b[0m\u001b[0mmode\u001b[0m\u001b[0;34m,\u001b[0m \u001b[0mcopy\u001b[0m\u001b[0;34m=\u001b[0m\u001b[0mcopy\u001b[0m\u001b[0;34m)\u001b[0m\u001b[0;34m\u001b[0m\u001b[0m\n\u001b[0m\u001b[1;32m    804\u001b[0m         \u001b[0;32mexcept\u001b[0m \u001b[0mzmq\u001b[0m\u001b[0;34m.\u001b[0m\u001b[0mZMQError\u001b[0m \u001b[0;32mas\u001b[0m \u001b[0me\u001b[0m\u001b[0;34m:\u001b[0m\u001b[0;34m\u001b[0m\u001b[0m\n",
      "\u001b[0;32m/Library/Frameworks/Python.framework/Versions/3.6/lib/python3.6/site-packages/zmq/sugar/socket.py\u001b[0m in \u001b[0;36mrecv_multipart\u001b[0;34m(self, flags, copy, track)\u001b[0m\n\u001b[1;32m    466\u001b[0m         \"\"\"\n\u001b[0;32m--> 467\u001b[0;31m         \u001b[0mparts\u001b[0m \u001b[0;34m=\u001b[0m \u001b[0;34m[\u001b[0m\u001b[0mself\u001b[0m\u001b[0;34m.\u001b[0m\u001b[0mrecv\u001b[0m\u001b[0;34m(\u001b[0m\u001b[0mflags\u001b[0m\u001b[0;34m,\u001b[0m \u001b[0mcopy\u001b[0m\u001b[0;34m=\u001b[0m\u001b[0mcopy\u001b[0m\u001b[0;34m,\u001b[0m \u001b[0mtrack\u001b[0m\u001b[0;34m=\u001b[0m\u001b[0mtrack\u001b[0m\u001b[0;34m)\u001b[0m\u001b[0;34m]\u001b[0m\u001b[0;34m\u001b[0m\u001b[0m\n\u001b[0m\u001b[1;32m    468\u001b[0m         \u001b[0;31m# have first part already, only loop while more to receive\u001b[0m\u001b[0;34m\u001b[0m\u001b[0;34m\u001b[0m\u001b[0m\n",
      "\u001b[0;32mzmq/backend/cython/socket.pyx\u001b[0m in \u001b[0;36mzmq.backend.cython.socket.Socket.recv\u001b[0;34m()\u001b[0m\n",
      "\u001b[0;32mzmq/backend/cython/socket.pyx\u001b[0m in \u001b[0;36mzmq.backend.cython.socket.Socket.recv\u001b[0;34m()\u001b[0m\n",
      "\u001b[0;32mzmq/backend/cython/socket.pyx\u001b[0m in \u001b[0;36mzmq.backend.cython.socket._recv_copy\u001b[0;34m()\u001b[0m\n",
      "\u001b[0;32m/Library/Frameworks/Python.framework/Versions/3.6/lib/python3.6/site-packages/zmq/backend/cython/checkrc.pxd\u001b[0m in \u001b[0;36mzmq.backend.cython.checkrc._check_rc\u001b[0;34m()\u001b[0m\n",
      "\u001b[0;31mKeyboardInterrupt\u001b[0m: ",
      "\nDuring handling of the above exception, another exception occurred:\n",
      "\u001b[0;31mKeyboardInterrupt\u001b[0m                         Traceback (most recent call last)",
      "\u001b[0;32m<ipython-input-8-c792c13358f4>\u001b[0m in \u001b[0;36m<module>\u001b[0;34m()\u001b[0m\n\u001b[1;32m     11\u001b[0m     \u001b[0mprint\u001b[0m\u001b[0;34m(\u001b[0m\u001b[0;34m\"1. US <-> EU Shoe Size Converter\"\u001b[0m\u001b[0;34m)\u001b[0m\u001b[0;34m\u001b[0m\u001b[0m\n\u001b[1;32m     12\u001b[0m     \u001b[0mprint\u001b[0m\u001b[0;34m(\u001b[0m\u001b[0;34m\"2. Shoe Store Finder\"\u001b[0m\u001b[0;34m)\u001b[0m\u001b[0;34m\u001b[0m\u001b[0m\n\u001b[0;32m---> 13\u001b[0;31m     \u001b[0mchoice\u001b[0m \u001b[0;34m=\u001b[0m \u001b[0minput\u001b[0m\u001b[0;34m(\u001b[0m\u001b[0;34m\"Select an option: (1/2) \"\u001b[0m\u001b[0;34m)\u001b[0m\u001b[0;34m\u001b[0m\u001b[0m\n\u001b[0m\u001b[1;32m     14\u001b[0m     \u001b[0;32mif\u001b[0m \u001b[0mchoice\u001b[0m \u001b[0;34m==\u001b[0m \u001b[0;34m\"1\"\u001b[0m\u001b[0;34m:\u001b[0m               \u001b[0;31m#create if loop for choice #1\u001b[0m\u001b[0;34m\u001b[0m\u001b[0m\n\u001b[1;32m     15\u001b[0m         \u001b[0mprint\u001b[0m\u001b[0;34m(\u001b[0m\u001b[0;34m\"Is the current shoe size EU or US? \"\u001b[0m\u001b[0;34m)\u001b[0m\u001b[0;34m\u001b[0m\u001b[0m\n",
      "\u001b[0;32m/Library/Frameworks/Python.framework/Versions/3.6/lib/python3.6/site-packages/ipykernel/kernelbase.py\u001b[0m in \u001b[0;36mraw_input\u001b[0;34m(self, prompt)\u001b[0m\n\u001b[1;32m    702\u001b[0m             \u001b[0mself\u001b[0m\u001b[0;34m.\u001b[0m\u001b[0m_parent_ident\u001b[0m\u001b[0;34m,\u001b[0m\u001b[0;34m\u001b[0m\u001b[0m\n\u001b[1;32m    703\u001b[0m             \u001b[0mself\u001b[0m\u001b[0;34m.\u001b[0m\u001b[0m_parent_header\u001b[0m\u001b[0;34m,\u001b[0m\u001b[0;34m\u001b[0m\u001b[0m\n\u001b[0;32m--> 704\u001b[0;31m             \u001b[0mpassword\u001b[0m\u001b[0;34m=\u001b[0m\u001b[0;32mFalse\u001b[0m\u001b[0;34m,\u001b[0m\u001b[0;34m\u001b[0m\u001b[0m\n\u001b[0m\u001b[1;32m    705\u001b[0m         )\n\u001b[1;32m    706\u001b[0m \u001b[0;34m\u001b[0m\u001b[0m\n",
      "\u001b[0;32m/Library/Frameworks/Python.framework/Versions/3.6/lib/python3.6/site-packages/ipykernel/kernelbase.py\u001b[0m in \u001b[0;36m_input_request\u001b[0;34m(self, prompt, ident, parent, password)\u001b[0m\n\u001b[1;32m    732\u001b[0m             \u001b[0;32mexcept\u001b[0m \u001b[0mKeyboardInterrupt\u001b[0m\u001b[0;34m:\u001b[0m\u001b[0;34m\u001b[0m\u001b[0m\n\u001b[1;32m    733\u001b[0m                 \u001b[0;31m# re-raise KeyboardInterrupt, to truncate traceback\u001b[0m\u001b[0;34m\u001b[0m\u001b[0;34m\u001b[0m\u001b[0m\n\u001b[0;32m--> 734\u001b[0;31m                 \u001b[0;32mraise\u001b[0m \u001b[0mKeyboardInterrupt\u001b[0m\u001b[0;34m\u001b[0m\u001b[0m\n\u001b[0m\u001b[1;32m    735\u001b[0m             \u001b[0;32melse\u001b[0m\u001b[0;34m:\u001b[0m\u001b[0;34m\u001b[0m\u001b[0m\n\u001b[1;32m    736\u001b[0m                 \u001b[0;32mbreak\u001b[0m\u001b[0;34m\u001b[0m\u001b[0m\n",
      "\u001b[0;31mKeyboardInterrupt\u001b[0m: "
     ]
    }
   ],
   "source": [
    "import requests\n",
    "import math\n",
    "import googlemaps #import the API\n",
    "\n",
    "gmaps = googlemaps.Client(Insert API Key) #import using API code\n",
    "loc = gmaps.geolocate()\n",
    "latlng = str(loc[\"location\"][\"lat\"]) + \",\" + str(loc[\"location\"][\"lng\"])\n",
    "\n",
    "print(\"Welcome to the Shoe Size Converter and Shoe Store finder application\")\n",
    "while True:                                             #create a while statement for 1-size converter and 2-shoe store finder\n",
    "    print(\"1. US <-> EU Shoe Size Converter\")\n",
    "    print(\"2. Shoe Store Finder\")\n",
    "    choice = input(\"Select an option: (1/2) \")\n",
    "    if choice == \"1\":                                   #create if statement for choice #1\n",
    "        print(\"Is the current shoe size EU or US? \") \n",
    "        region = input(\"Select a region: (EU/US) \")\n",
    "        size = float(input(\"Please enter a shoe size: \"))\n",
    "        if region == 'EU' and size > 50:                #set limit for EU shoe size so it can't be greater than 50\n",
    "            print(\"Invalid shoe size for EU. Try again\")\n",
    "            continue\n",
    "        elif region == 'US' and size < 4 or size > 16:  #set limit for US shoe size so it must be between 4 and 16\n",
    "            print(\"Invalid shoe size for US. Try again\")\n",
    "            continue\n",
    "        print(\"Is the shoe size male (m) or female (f)? \")\n",
    "        gender = input(\"Select a gender (m/f): \")\n",
    "        if gender == \"f\":        #create if statement for female\n",
    "            if region == \"EU\":       #create if statement for region\n",
    "                size = math.floor(size) - 30          #incorporate math for conversions\n",
    "            elif region == \"US\":\n",
    "                size = math.floor(size) + 30          #incorporate math for conversions\n",
    "        elif gender == \"m\":\n",
    "            if region == \"EU\":\n",
    "                size = math.floor(size) - 33          #incorporate math for conversions\n",
    "            elif region == \"US\":\n",
    "                size = math.floor(size) + 33          #incorporate math for conversions\n",
    "        else:\n",
    "            print(\"Invalid gender, try again\")        #else statement so if anything other than \"m\" or \"f\" is entered, it is invalid\n",
    "        print(\"Your new shoe size is\", size)\n",
    "    elif choice == \"2\":                               #choice 2 use api and include address, stores, and ratings\n",
    "        stores = gmaps.places(query=\"shoe stores\", location=latlng)\n",
    "        for store in stores[\"results\"]:\n",
    "            print(store[\"name\"] + \" - \" + store[\"formatted_address\"] + \" - Rating: \" + str(store[\"rating\"]) + \" out of 5\") \n",
    "    else:\n",
    "        print(\"Invalid input, please try again\")      #else statement so that invalid answers are not accepted, avoid getting errors\n",
    "        "
   ]
  },
  {
   "cell_type": "code",
   "execution_count": null,
   "metadata": {},
   "outputs": [],
   "source": []
  },
  {
   "cell_type": "code",
   "execution_count": null,
   "metadata": {},
   "outputs": [],
   "source": []
  },
  {
   "cell_type": "code",
   "execution_count": null,
   "metadata": {},
   "outputs": [],
   "source": []
  },
  {
   "cell_type": "code",
   "execution_count": null,
   "metadata": {},
   "outputs": [],
   "source": []
  },
  {
   "cell_type": "code",
   "execution_count": null,
   "metadata": {},
   "outputs": [],
   "source": []
  },
  {
   "cell_type": "code",
   "execution_count": null,
   "metadata": {},
   "outputs": [],
   "source": []
  },
  {
   "cell_type": "code",
   "execution_count": null,
   "metadata": {},
   "outputs": [],
   "source": []
  },
  {
   "cell_type": "code",
   "execution_count": null,
   "metadata": {},
   "outputs": [],
   "source": []
  },
  {
   "cell_type": "code",
   "execution_count": null,
   "metadata": {},
   "outputs": [],
   "source": []
  },
  {
   "cell_type": "code",
   "execution_count": null,
   "metadata": {},
   "outputs": [],
   "source": []
  },
  {
   "cell_type": "code",
   "execution_count": null,
   "metadata": {},
   "outputs": [],
   "source": []
  },
  {
   "cell_type": "code",
   "execution_count": null,
   "metadata": {},
   "outputs": [],
   "source": []
  },
  {
   "cell_type": "code",
   "execution_count": null,
   "metadata": {},
   "outputs": [],
   "source": []
  },
  {
   "cell_type": "code",
   "execution_count": null,
   "metadata": {},
   "outputs": [],
   "source": []
  },
  {
   "cell_type": "code",
   "execution_count": null,
   "metadata": {},
   "outputs": [],
   "source": []
  },
  {
   "cell_type": "code",
   "execution_count": null,
   "metadata": {},
   "outputs": [
    {
     "name": "stdout",
     "output_type": "stream",
     "text": [
      "Welcome to the Shoe Size Converter and Shoe Store finder application\n",
      "1. US <-> EU Shoe Size Converter\n",
      "2. Shoe Store Finder\n",
      "Select an option: (1/2) 1\n",
      "Please enter a shoe size: 42\n",
      "Is the shoe size male (m) or female (f)? \n",
      "Select a gender (m/f): m\n",
      "Is the current shoe size EU or US? \n",
      "Select a region: (EU/US) EU\n",
      "Your new shoe size is 9\n",
      "1. US <-> EU Shoe Size Converter\n",
      "2. Shoe Store Finder\n",
      "Select an option: (1/2) 1\n",
      "Please enter a shoe size: 9.5\n",
      "Is the shoe size male (m) or female (f)? \n",
      "Select a gender (m/f): m\n",
      "Is the current shoe size EU or US? \n",
      "Select a region: (EU/US) us\n",
      "Your new shoe size is 9.5\n",
      "1. US <-> EU Shoe Size Converter\n",
      "2. Shoe Store Finder\n",
      "Select an option: (1/2) 1\n",
      "Please enter a shoe size: 9.5\n",
      "Is the shoe size male (m) or female (f)? \n",
      "Select a gender (m/f): m\n",
      "Is the current shoe size EU or US? \n",
      "Select a region: (EU/US) EU\n",
      "Your new shoe size is -24\n",
      "1. US <-> EU Shoe Size Converter\n",
      "2. Shoe Store Finder\n",
      "Select an option: (1/2) 1\n",
      "Please enter a shoe size: 9.5\n",
      "Is the shoe size male (m) or female (f)? \n",
      "Select a gender (m/f): m\n",
      "Is the current shoe size EU or US? \n",
      "Select a region: (EU/US) US\n",
      "Your new shoe size is 42\n",
      "1. US <-> EU Shoe Size Converter\n",
      "2. Shoe Store Finder\n"
     ]
    }
   ],
   "source": []
  },
  {
   "cell_type": "code",
   "execution_count": null,
   "metadata": {},
   "outputs": [],
   "source": []
  }
 ],
 "metadata": {
  "kernelspec": {
   "display_name": "Python 3",
   "language": "python",
   "name": "python3"
  }
 },
 "nbformat": 4,
 "nbformat_minor": 2
}
